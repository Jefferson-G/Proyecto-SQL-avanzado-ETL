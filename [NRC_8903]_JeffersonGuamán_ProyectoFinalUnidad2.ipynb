{
  "nbformat": 4,
  "nbformat_minor": 0,
  "metadata": {
    "colab": {
      "name": "[NRC_8903] JeffersonGuamán_ProyectoFinalUnidad2.ipynb",
      "provenance": [],
      "collapsed_sections": [],
      "authorship_tag": "ABX9TyP8B22oOqy/pLESBFYq6u8r",
      "include_colab_link": true
    },
    "kernelspec": {
      "name": "python3",
      "display_name": "Python 3"
    },
    "language_info": {
      "name": "python"
    }
  },
  "cells": [
    {
      "cell_type": "markdown",
      "metadata": {
        "id": "view-in-github",
        "colab_type": "text"
      },
      "source": [
        "<a href=\"https://colab.research.google.com/github/Jefferson-G/Proyecto-SQL-avanzado-ETL/blob/main/%5BNRC_8903%5D_JeffersonGuam%C3%A1n_ProyectoFinalUnidad2.ipynb\" target=\"_parent\"><img src=\"https://colab.research.google.com/assets/colab-badge.svg\" alt=\"Open In Colab\"/></a>"
      ]
    },
    {
      "cell_type": "code",
      "source": [
        "#librerias\n",
        "import sqlalchemy\n",
        "from sqlalchemy import create_engine\n",
        "from sqlalchemy import Table, Column, Integer, String, MetaData, ForeignKey\n",
        "from sqlalchemy import inspect"
      ],
      "metadata": {
        "id": "RRiZiuyKBcCP"
      },
      "execution_count": 1,
      "outputs": []
    },
    {
      "cell_type": "code",
      "source": [
        "#Conectar el motor al archivo de la base de datos a usar\n",
        "engine = create_engine('sqlite:///chinook.db')\n",
        "engine"
      ],
      "metadata": {
        "colab": {
          "base_uri": "https://localhost:8080/"
        },
        "id": "qIZrC0bFBeWI",
        "outputId": "9f321264-0f47-4454-f8b9-517a219aa71f"
      },
      "execution_count": 2,
      "outputs": [
        {
          "output_type": "execute_result",
          "data": {
            "text/plain": [
              "Engine(sqlite:///chinook.db)"
            ]
          },
          "metadata": {},
          "execution_count": 2
        }
      ]
    },
    {
      "cell_type": "markdown",
      "source": [
        "# Extract"
      ],
      "metadata": {
        "id": "qNQVYNSaBlmG"
      }
    },
    {
      "cell_type": "code",
      "source": [
        "# SQL Expression Language crea metadatos que contienen objetos que definen la tabla de empleados\n",
        "metadata = MetaData()\n",
        "\n",
        "# Este método instancia las tablas que ya\n",
        "# existe en la base de datos, a la que está conectado el motor.\n",
        "metadata.create_all(engine)\n",
        "\n",
        "# Revisando esto, podemos ver la estructura de la tabla y los tipos de variables para la tabla de employees\n",
        "inspector = inspect(engine)\n",
        "\n",
        "#Revisé las columnas en la tabla de employees \n",
        "inspector.get_columns('employees')"
      ],
      "metadata": {
        "colab": {
          "base_uri": "https://localhost:8080/"
        },
        "id": "Wbs_N6ALBqbo",
        "outputId": "18b31753-e0f3-4375-94eb-eabea2a03c07"
      },
      "execution_count": 3,
      "outputs": [
        {
          "output_type": "execute_result",
          "data": {
            "text/plain": [
              "[{'autoincrement': 'auto',\n",
              "  'default': None,\n",
              "  'name': 'EmployeeId',\n",
              "  'nullable': False,\n",
              "  'primary_key': 1,\n",
              "  'type': INTEGER()},\n",
              " {'autoincrement': 'auto',\n",
              "  'default': None,\n",
              "  'name': 'LastName',\n",
              "  'nullable': False,\n",
              "  'primary_key': 0,\n",
              "  'type': NVARCHAR(length=20)},\n",
              " {'autoincrement': 'auto',\n",
              "  'default': None,\n",
              "  'name': 'FirstName',\n",
              "  'nullable': False,\n",
              "  'primary_key': 0,\n",
              "  'type': NVARCHAR(length=20)},\n",
              " {'autoincrement': 'auto',\n",
              "  'default': None,\n",
              "  'name': 'Title',\n",
              "  'nullable': True,\n",
              "  'primary_key': 0,\n",
              "  'type': NVARCHAR(length=30)},\n",
              " {'autoincrement': 'auto',\n",
              "  'default': None,\n",
              "  'name': 'ReportsTo',\n",
              "  'nullable': True,\n",
              "  'primary_key': 0,\n",
              "  'type': INTEGER()},\n",
              " {'autoincrement': 'auto',\n",
              "  'default': None,\n",
              "  'name': 'BirthDate',\n",
              "  'nullable': True,\n",
              "  'primary_key': 0,\n",
              "  'type': DATETIME()},\n",
              " {'autoincrement': 'auto',\n",
              "  'default': None,\n",
              "  'name': 'HireDate',\n",
              "  'nullable': True,\n",
              "  'primary_key': 0,\n",
              "  'type': DATETIME()},\n",
              " {'autoincrement': 'auto',\n",
              "  'default': None,\n",
              "  'name': 'Address',\n",
              "  'nullable': True,\n",
              "  'primary_key': 0,\n",
              "  'type': NVARCHAR(length=70)},\n",
              " {'autoincrement': 'auto',\n",
              "  'default': None,\n",
              "  'name': 'City',\n",
              "  'nullable': True,\n",
              "  'primary_key': 0,\n",
              "  'type': NVARCHAR(length=40)},\n",
              " {'autoincrement': 'auto',\n",
              "  'default': None,\n",
              "  'name': 'State',\n",
              "  'nullable': True,\n",
              "  'primary_key': 0,\n",
              "  'type': NVARCHAR(length=40)},\n",
              " {'autoincrement': 'auto',\n",
              "  'default': None,\n",
              "  'name': 'Country',\n",
              "  'nullable': True,\n",
              "  'primary_key': 0,\n",
              "  'type': NVARCHAR(length=40)},\n",
              " {'autoincrement': 'auto',\n",
              "  'default': None,\n",
              "  'name': 'PostalCode',\n",
              "  'nullable': True,\n",
              "  'primary_key': 0,\n",
              "  'type': NVARCHAR(length=10)},\n",
              " {'autoincrement': 'auto',\n",
              "  'default': None,\n",
              "  'name': 'Phone',\n",
              "  'nullable': True,\n",
              "  'primary_key': 0,\n",
              "  'type': NVARCHAR(length=24)},\n",
              " {'autoincrement': 'auto',\n",
              "  'default': None,\n",
              "  'name': 'Fax',\n",
              "  'nullable': True,\n",
              "  'primary_key': 0,\n",
              "  'type': NVARCHAR(length=24)},\n",
              " {'autoincrement': 'auto',\n",
              "  'default': None,\n",
              "  'name': 'Email',\n",
              "  'nullable': True,\n",
              "  'primary_key': 0,\n",
              "  'type': NVARCHAR(length=60)}]"
            ]
          },
          "metadata": {},
          "execution_count": 3
        }
      ]
    },
    {
      "cell_type": "markdown",
      "source": [
        "# Transform"
      ],
      "metadata": {
        "id": "nuVMdk6xF_Md"
      }
    },
    {
      "cell_type": "code",
      "source": [
        "#seleccionar todos los campos de la tabla Employees\n",
        "\n",
        "# Ejecutemos SQL sin procesar en algunas tablas usando SQLAlchemy\n",
        "with engine.connect() as con:\n",
        "    \n",
        "    rs = con.execute('SELECT * FROM employees')\n",
        "    \n",
        "    for row in rs:\n",
        "        print(row)\n",
        "# No olvide cerrar su conexión a la base de datos cuando finalice la consulta\n",
        "con.close()\n",
        "\n",
        "# Nota: Use LIMIT n para limitar el número de filas devueltas. No hay problema con esta pequeña mesa."
      ],
      "metadata": {
        "colab": {
          "base_uri": "https://localhost:8080/"
        },
        "id": "J95KUsgnF_7n",
        "outputId": "22338284-3a1f-4e05-fbbc-1f98b8151f77"
      },
      "execution_count": 4,
      "outputs": [
        {
          "output_type": "stream",
          "name": "stdout",
          "text": [
            "(1, 'Adams', 'Andrew', 'General Manager', None, '1962-02-18 00:00:00', '2002-08-14 00:00:00', '11120 Jasper Ave NW', 'Edmonton', 'AB', 'Canada', 'T5K 2N1', '+1 (780) 428-9482', '+1 (780) 428-3457', 'andrew@chinookcorp.com')\n",
            "(2, 'Edwards', 'Nancy', 'Sales Manager', 1, '1958-12-08 00:00:00', '2002-05-01 00:00:00', '825 8 Ave SW', 'Calgary', 'AB', 'Canada', 'T2P 2T3', '+1 (403) 262-3443', '+1 (403) 262-3322', 'nancy@chinookcorp.com')\n",
            "(3, 'Peacock', 'Jane', 'Sales Support Agent', 2, '1973-08-29 00:00:00', '2002-04-01 00:00:00', '1111 6 Ave SW', 'Calgary', 'AB', 'Canada', 'T2P 5M5', '+1 (403) 262-3443', '+1 (403) 262-6712', 'jane@chinookcorp.com')\n",
            "(4, 'Park', 'Margaret', 'Sales Support Agent', 2, '1947-09-19 00:00:00', '2003-05-03 00:00:00', '683 10 Street SW', 'Calgary', 'AB', 'Canada', 'T2P 5G3', '+1 (403) 263-4423', '+1 (403) 263-4289', 'margaret@chinookcorp.com')\n",
            "(5, 'Johnson', 'Steve', 'Sales Support Agent', 2, '1965-03-03 00:00:00', '2003-10-17 00:00:00', '7727B 41 Ave', 'Calgary', 'AB', 'Canada', 'T3B 1Y7', '1 (780) 836-9987', '1 (780) 836-9543', 'steve@chinookcorp.com')\n",
            "(6, 'Mitchell', 'Michael', 'IT Manager', 1, '1973-07-01 00:00:00', '2003-10-17 00:00:00', '5827 Bowness Road NW', 'Calgary', 'AB', 'Canada', 'T3B 0C5', '+1 (403) 246-9887', '+1 (403) 246-9899', 'michael@chinookcorp.com')\n",
            "(7, 'King', 'Robert', 'IT Staff', 6, '1970-05-29 00:00:00', '2004-01-02 00:00:00', '590 Columbia Boulevard West', 'Lethbridge', 'AB', 'Canada', 'T1K 5N8', '+1 (403) 456-9986', '+1 (403) 456-8485', 'robert@chinookcorp.com')\n",
            "(8, 'Callahan', 'Laura', 'IT Staff', 6, '1968-01-09 00:00:00', '2004-03-04 00:00:00', '923 7 ST NW', 'Lethbridge', 'AB', 'Canada', 'T1H 1Y8', '+1 (403) 467-3351', '+1 (403) 467-8772', 'laura@chinookcorp.com')\n"
          ]
        }
      ]
    },
    {
      "cell_type": "code",
      "source": [
        "#-- Consultar  el total de factura que an generado los agentes de Ventas desde una fecha inico y una fecha fin,\n",
        "#junto con que pais de los clientes se asociaron mas,  y que grupo de artistas resulto mas vendido junto con su album y\n",
        "#tipo de genero musical. \n",
        "with engine.connect() as con:\n",
        "    \n",
        "    rs = con.execute(\"\"\"select e.FirstName||\" \"|| e.LastName as Agente_Ventas,\n",
        "c.Country Ciudad , at.name as Grupo, a.Title as Album, \n",
        "g.Name as Tipo_Género,\n",
        "count(*) as TotalFacturas, min(InvoiceDate) as FechaMin,\n",
        "max(InvoiceDate) as FechaMax, sum(Total) as ValorTotal\n",
        "from invoices i\n",
        "inner join customers c on c.CustomerId = i.CustomerId\n",
        "inner join employees e on c.SupportRepId = e.EmployeeId\n",
        "inner join invoice_items it on i.InvoiceId= it.InvoiceId\n",
        "inner join tracks t on it.TrackId = t.TrackId\n",
        "inner join genres g on t.GenreId = g.GenreId\n",
        "inner join albums a on t.AlbumId = a.AlbumId\n",
        "inner join artists at on a.ArtistId = at.ArtistId\n",
        "group by Agente_Ventas\n",
        "having ValorTotal > 3000\n",
        "order by Agente_Ventas DESC;\n",
        "\"\"\")\n",
        "    \n",
        "    for row in rs:\n",
        "        print(row)\n",
        "        \n",
        "con.close()"
      ],
      "metadata": {
        "colab": {
          "base_uri": "https://localhost:8080/"
        },
        "id": "ZvkJfXWlGeFs",
        "outputId": "47ef5f41-5907-404f-a4a9-9e095a527c2d"
      },
      "execution_count": 5,
      "outputs": [
        {
          "output_type": "stream",
          "name": "stdout",
          "text": [
            "('Steve Johnson', 'USA', 'U2', 'B-Sides 1980-1990', 'Rock', 684, '2009-01-01 00:00:00', '2013-12-05 00:00:00', 6490.159999999937)\n",
            "('Margaret Park', 'Portugal', 'U2', 'Rattle And Hum', 'Rock', 760, '2009-01-02 00:00:00', '2013-12-09 00:00:00', 6931.39999999992)\n",
            "('Jane Peacock', 'India', 'The Office', 'The Office, Season 1', 'TV Shows', 796, '2009-01-19 00:00:00', '2013-12-22 00:00:00', 7427.059999999916)\n"
          ]
        }
      ]
    },
    {
      "cell_type": "code",
      "source": [
        "# Los 10 mejores clientes indicando Nombre, Apellidos, \n",
        "#Pais la cantidad de gasto que han realizado.\n",
        "with engine.connect() as con:\n",
        "    \n",
        "    rs = con.execute(\"\"\"select customers.FirstName as Nombre_Cliente,\n",
        "customers.LastName as Apellido_Cliente, customers.Country as País_Cliente,\n",
        "min(invoices.InvoiceDate) as Primera_Compra, max(invoices.InvoiceDate) as Ultima_Compra\n",
        ", sum(invoices.Total) as Total_Gasto\n",
        "from customers, invoices\n",
        "where customers.CustomerId = invoices.CustomerId\n",
        "group by customers.CustomerId\n",
        "order by Total desc limit 10\"\"\")\n",
        "    \n",
        "    for row in rs:\n",
        "        print(row)\n",
        "        \n",
        "con.close()"
      ],
      "metadata": {
        "colab": {
          "base_uri": "https://localhost:8080/"
        },
        "id": "WYl5WXkMos88",
        "outputId": "e857db24-acf2-4e4f-ed8e-557126f96d47"
      },
      "execution_count": 7,
      "outputs": [
        {
          "output_type": "stream",
          "name": "stdout",
          "text": [
            "('Helena', 'Holý', 'Czech Republic', '2009-07-11 00:00:00', '2013-11-13 00:00:00', 49.620000000000005)\n",
            "('Eduardo', 'Martins', 'Brazil', '2009-04-09 00:00:00', '2013-08-12 00:00:00', 37.620000000000005)\n",
            "('Mark', 'Philips', 'Canada', '2009-01-06 00:00:00', '2013-05-11 00:00:00', 37.620000000000005)\n",
            "('Patrick', 'Gray', 'USA', '2009-06-10 00:00:00', '2013-10-13 00:00:00', 37.620000000000005)\n",
            "('Martha', 'Silk', 'Canada', '2009-03-09 00:00:00', '2013-07-12 00:00:00', 37.620000000000005)\n",
            "('Terhi', 'Hämäläinen', 'Finland', '2009-08-11 00:00:00', '2013-12-14 00:00:00', 41.620000000000005)\n",
            "('Johannes', 'Van der Berg', 'Netherlands', '2009-05-10 00:00:00', '2013-09-12 00:00:00', 40.62)\n",
            "('Emma', 'Jones', 'United Kingdom', '2009-02-06 00:00:00', '2013-06-11 00:00:00', 37.620000000000005)\n",
            "('Jack', 'Smith', 'USA', '2009-03-04 00:00:00', '2012-07-31 00:00:00', 39.620000000000005)\n",
            "('João', 'Fernandes', 'Portugal', '2009-05-05 00:00:00', '2012-10-01 00:00:00', 39.620000000000005)\n"
          ]
        }
      ]
    },
    {
      "cell_type": "markdown",
      "source": [
        "# Load"
      ],
      "metadata": {
        "id": "-5W3Q7xaIZ0x"
      }
    },
    {
      "cell_type": "code",
      "source": [
        "#Cargar a última query. Aquí debe utilizar un objeto dataframe\n",
        "import pandas as pd\n",
        "df = pd.read_sql_query(\"\"\"select e.FirstName||\" \"|| e.LastName as Agente_Ventas,\n",
        "c.Country Ciudad , at.name as Grupo, a.Title as Album, \n",
        "g.Name as Tipo_Género,\n",
        "count(*) as TotalFacturas, min(InvoiceDate) as FechaMin,\n",
        "max(InvoiceDate) as FechaMax, sum(Total) as ValorTotal\n",
        "from invoices i\n",
        "inner join customers c on c.CustomerId = i.CustomerId\n",
        "inner join employees e on c.SupportRepId = e.EmployeeId\n",
        "inner join invoice_items it on i.InvoiceId= it.InvoiceId\n",
        "inner join tracks t on it.TrackId = t.TrackId\n",
        "inner join genres g on t.GenreId = g.GenreId\n",
        "inner join albums a on t.AlbumId = a.AlbumId\n",
        "inner join artists at on a.ArtistId = at.ArtistId\n",
        "group by Agente_Ventas\n",
        "having ValorTotal > 3000\n",
        "order by Agente_Ventas DESC;\n",
        "    \n",
        "    \"\"\", con=engine.connect())"
      ],
      "metadata": {
        "id": "nhISONKmIafi"
      },
      "execution_count": 8,
      "outputs": []
    },
    {
      "cell_type": "code",
      "source": [
        "df.head()"
      ],
      "metadata": {
        "colab": {
          "base_uri": "https://localhost:8080/",
          "height": 240
        },
        "id": "FS8KVpRupMJL",
        "outputId": "88ca26fe-5832-4966-8ca3-b7daeaa5191b"
      },
      "execution_count": 9,
      "outputs": [
        {
          "output_type": "execute_result",
          "data": {
            "text/html": [
              "\n",
              "  <div id=\"df-13f5aa82-d3f0-408b-8ece-7e8c86ad192d\">\n",
              "    <div class=\"colab-df-container\">\n",
              "      <div>\n",
              "<style scoped>\n",
              "    .dataframe tbody tr th:only-of-type {\n",
              "        vertical-align: middle;\n",
              "    }\n",
              "\n",
              "    .dataframe tbody tr th {\n",
              "        vertical-align: top;\n",
              "    }\n",
              "\n",
              "    .dataframe thead th {\n",
              "        text-align: right;\n",
              "    }\n",
              "</style>\n",
              "<table border=\"1\" class=\"dataframe\">\n",
              "  <thead>\n",
              "    <tr style=\"text-align: right;\">\n",
              "      <th></th>\n",
              "      <th>Agente_Ventas</th>\n",
              "      <th>Ciudad</th>\n",
              "      <th>Grupo</th>\n",
              "      <th>Album</th>\n",
              "      <th>Tipo_Género</th>\n",
              "      <th>TotalFacturas</th>\n",
              "      <th>FechaMin</th>\n",
              "      <th>FechaMax</th>\n",
              "      <th>ValorTotal</th>\n",
              "    </tr>\n",
              "  </thead>\n",
              "  <tbody>\n",
              "    <tr>\n",
              "      <th>0</th>\n",
              "      <td>Steve Johnson</td>\n",
              "      <td>USA</td>\n",
              "      <td>U2</td>\n",
              "      <td>B-Sides 1980-1990</td>\n",
              "      <td>Rock</td>\n",
              "      <td>684</td>\n",
              "      <td>2009-01-01 00:00:00</td>\n",
              "      <td>2013-12-05 00:00:00</td>\n",
              "      <td>6490.16</td>\n",
              "    </tr>\n",
              "    <tr>\n",
              "      <th>1</th>\n",
              "      <td>Margaret Park</td>\n",
              "      <td>Portugal</td>\n",
              "      <td>U2</td>\n",
              "      <td>Rattle And Hum</td>\n",
              "      <td>Rock</td>\n",
              "      <td>760</td>\n",
              "      <td>2009-01-02 00:00:00</td>\n",
              "      <td>2013-12-09 00:00:00</td>\n",
              "      <td>6931.40</td>\n",
              "    </tr>\n",
              "    <tr>\n",
              "      <th>2</th>\n",
              "      <td>Jane Peacock</td>\n",
              "      <td>India</td>\n",
              "      <td>The Office</td>\n",
              "      <td>The Office, Season 1</td>\n",
              "      <td>TV Shows</td>\n",
              "      <td>796</td>\n",
              "      <td>2009-01-19 00:00:00</td>\n",
              "      <td>2013-12-22 00:00:00</td>\n",
              "      <td>7427.06</td>\n",
              "    </tr>\n",
              "  </tbody>\n",
              "</table>\n",
              "</div>\n",
              "      <button class=\"colab-df-convert\" onclick=\"convertToInteractive('df-13f5aa82-d3f0-408b-8ece-7e8c86ad192d')\"\n",
              "              title=\"Convert this dataframe to an interactive table.\"\n",
              "              style=\"display:none;\">\n",
              "        \n",
              "  <svg xmlns=\"http://www.w3.org/2000/svg\" height=\"24px\"viewBox=\"0 0 24 24\"\n",
              "       width=\"24px\">\n",
              "    <path d=\"M0 0h24v24H0V0z\" fill=\"none\"/>\n",
              "    <path d=\"M18.56 5.44l.94 2.06.94-2.06 2.06-.94-2.06-.94-.94-2.06-.94 2.06-2.06.94zm-11 1L8.5 8.5l.94-2.06 2.06-.94-2.06-.94L8.5 2.5l-.94 2.06-2.06.94zm10 10l.94 2.06.94-2.06 2.06-.94-2.06-.94-.94-2.06-.94 2.06-2.06.94z\"/><path d=\"M17.41 7.96l-1.37-1.37c-.4-.4-.92-.59-1.43-.59-.52 0-1.04.2-1.43.59L10.3 9.45l-7.72 7.72c-.78.78-.78 2.05 0 2.83L4 21.41c.39.39.9.59 1.41.59.51 0 1.02-.2 1.41-.59l7.78-7.78 2.81-2.81c.8-.78.8-2.07 0-2.86zM5.41 20L4 18.59l7.72-7.72 1.47 1.35L5.41 20z\"/>\n",
              "  </svg>\n",
              "      </button>\n",
              "      \n",
              "  <style>\n",
              "    .colab-df-container {\n",
              "      display:flex;\n",
              "      flex-wrap:wrap;\n",
              "      gap: 12px;\n",
              "    }\n",
              "\n",
              "    .colab-df-convert {\n",
              "      background-color: #E8F0FE;\n",
              "      border: none;\n",
              "      border-radius: 50%;\n",
              "      cursor: pointer;\n",
              "      display: none;\n",
              "      fill: #1967D2;\n",
              "      height: 32px;\n",
              "      padding: 0 0 0 0;\n",
              "      width: 32px;\n",
              "    }\n",
              "\n",
              "    .colab-df-convert:hover {\n",
              "      background-color: #E2EBFA;\n",
              "      box-shadow: 0px 1px 2px rgba(60, 64, 67, 0.3), 0px 1px 3px 1px rgba(60, 64, 67, 0.15);\n",
              "      fill: #174EA6;\n",
              "    }\n",
              "\n",
              "    [theme=dark] .colab-df-convert {\n",
              "      background-color: #3B4455;\n",
              "      fill: #D2E3FC;\n",
              "    }\n",
              "\n",
              "    [theme=dark] .colab-df-convert:hover {\n",
              "      background-color: #434B5C;\n",
              "      box-shadow: 0px 1px 3px 1px rgba(0, 0, 0, 0.15);\n",
              "      filter: drop-shadow(0px 1px 2px rgba(0, 0, 0, 0.3));\n",
              "      fill: #FFFFFF;\n",
              "    }\n",
              "  </style>\n",
              "\n",
              "      <script>\n",
              "        const buttonEl =\n",
              "          document.querySelector('#df-13f5aa82-d3f0-408b-8ece-7e8c86ad192d button.colab-df-convert');\n",
              "        buttonEl.style.display =\n",
              "          google.colab.kernel.accessAllowed ? 'block' : 'none';\n",
              "\n",
              "        async function convertToInteractive(key) {\n",
              "          const element = document.querySelector('#df-13f5aa82-d3f0-408b-8ece-7e8c86ad192d');\n",
              "          const dataTable =\n",
              "            await google.colab.kernel.invokeFunction('convertToInteractive',\n",
              "                                                     [key], {});\n",
              "          if (!dataTable) return;\n",
              "\n",
              "          const docLinkHtml = 'Like what you see? Visit the ' +\n",
              "            '<a target=\"_blank\" href=https://colab.research.google.com/notebooks/data_table.ipynb>data table notebook</a>'\n",
              "            + ' to learn more about interactive tables.';\n",
              "          element.innerHTML = '';\n",
              "          dataTable['output_type'] = 'display_data';\n",
              "          await google.colab.output.renderOutput(dataTable, element);\n",
              "          const docLink = document.createElement('div');\n",
              "          docLink.innerHTML = docLinkHtml;\n",
              "          element.appendChild(docLink);\n",
              "        }\n",
              "      </script>\n",
              "    </div>\n",
              "  </div>\n",
              "  "
            ],
            "text/plain": [
              "   Agente_Ventas    Ciudad  ...             FechaMax ValorTotal\n",
              "0  Steve Johnson       USA  ...  2013-12-05 00:00:00    6490.16\n",
              "1  Margaret Park  Portugal  ...  2013-12-09 00:00:00    6931.40\n",
              "2   Jane Peacock     India  ...  2013-12-22 00:00:00    7427.06\n",
              "\n",
              "[3 rows x 9 columns]"
            ]
          },
          "metadata": {},
          "execution_count": 9
        }
      ]
    },
    {
      "cell_type": "code",
      "source": [
        "#Exportar el archivo en un formato a su elección.\n",
        "df.to_csv('[NRC_8903] JeffersonGuamán_ProyectoFinalUnidad1.csv')"
      ],
      "metadata": {
        "id": "mYxaEuI7pcBo"
      },
      "execution_count": 11,
      "outputs": []
    }
  ]
}